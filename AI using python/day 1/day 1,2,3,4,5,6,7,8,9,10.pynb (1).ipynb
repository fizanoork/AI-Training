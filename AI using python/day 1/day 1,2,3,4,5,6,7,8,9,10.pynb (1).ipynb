{
 "cells": [
  {
   "cell_type": "code",
   "execution_count": null,
   "id": "fe8bc17b",
   "metadata": {},
   "outputs": [],
   "source": [
    "#DAY-01\n",
    "\n",
    "\n",
    "a=10\n"
   ]
  },
  {
   "cell_type": "code",
   "execution_count": 3,
   "id": "cd0653c5",
   "metadata": {},
   "outputs": [],
   "source": [
    "b=20\n"
   ]
  },
  {
   "cell_type": "code",
   "execution_count": 4,
   "id": "5283d5d9",
   "metadata": {},
   "outputs": [],
   "source": [
    "sum=a+b"
   ]
  },
  {
   "cell_type": "code",
   "execution_count": 5,
   "id": "b15b0bfa",
   "metadata": {},
   "outputs": [
    {
     "name": "stdout",
     "output_type": "stream",
     "text": [
      "30\n"
     ]
    }
   ],
   "source": [
    "print(sum)\n"
   ]
  },
  {
   "cell_type": "code",
   "execution_count": 6,
   "id": "1c7898ec",
   "metadata": {},
   "outputs": [
    {
     "name": "stdout",
     "output_type": "stream",
     "text": [
      "[1, 3, 2, 3, 4, [3, 45, 6]]\n"
     ]
    }
   ],
   "source": [
    "import copy\n",
    "orginal=[1,3,2,3,4,[3,45,6,]]\n",
    "ref_copy=orginal\n",
    "print(ref_copy)"
   ]
  },
  {
   "cell_type": "code",
   "execution_count": 16,
   "id": "ba7c8721",
   "metadata": {},
   "outputs": [
    {
     "name": "stdout",
     "output_type": "stream",
     "text": [
      "1\n",
      "22.0\n"
     ]
    }
   ],
   "source": [
    "a=1.5\n",
    "b=20.5\n",
    "print(int(a))\n",
    "print(a+b)"
   ]
  },
  {
   "cell_type": "code",
   "execution_count": null,
   "id": "69f007aa",
   "metadata": {},
   "outputs": [
    {
     "name": "stdout",
     "output_type": "stream",
     "text": [
      " coatis available\n"
     ]
    }
   ],
   "source": [
    "cart=[\"shirt\",\"jeans\",\"shoes\",\"coat\"]\n",
    "\n",
    "thing=input(\"enter the item\")\n",
    "if thing in cart:\n",
    "    print(f\" {thing}is available\")\n",
    "else:\n",
    "    print(\"sorry, is not available please add it\")"
   ]
  },
  {
   "cell_type": "code",
   "execution_count": 7,
   "id": "19551b86",
   "metadata": {},
   "outputs": [
    {
     "name": "stdout",
     "output_type": "stream",
     "text": [
      "Access Granted\n"
     ]
    }
   ],
   "source": [
    "\n",
    "#DAY-02\n",
    "\n",
    "\n",
    "\n",
    "user_name=\"AbCd\"\n",
    "passw=\"123\"\n",
    "attempts=0\n",
    "while(attempts<3):\n",
    "    username=input(\"username:\")\n",
    "    password=input(\"password:\")\n",
    "    if(username==user_name and password==passw):\n",
    "        print(\"Access Granted\")\n",
    "        break\n",
    "    else:\n",
    "        print(f\"username or password is incorrect,only {3-attempts} attempts are there!\")\n",
    "        attempts+=1\n",
    "else:\n",
    "     print(\"you are trying too many times,you are blocked\")\n",
    "\n"
   ]
  },
  {
   "cell_type": "code",
   "execution_count": 12,
   "id": "e131e67e",
   "metadata": {},
   "outputs": [
    {
     "name": "stdout",
     "output_type": "stream",
     "text": [
      "pin is wrong please try again there only2attempt is left!!\n",
      "pin is wrong please try again there only1attempt is left!!\n",
      "again its wrong so try again later\n"
     ]
    }
   ],
   "source": [
    "#enter the bank balance\n",
    "#enter the withdrawn amount\n",
    "#define pin\n",
    "#get pin from user\n",
    "\n",
    "\n",
    "bank_balance=int(input(\"enter the balance:\"))\n",
    "withdrawn_amnt=int(input(\"enter the withdrawn amount:\"))\n",
    "\n",
    "pin_num=7930\n",
    "attempt=0\n",
    "\n",
    "while(attempt<2):\n",
    "    pin=int(input(\"enter your pin:\"))\n",
    "    if(pin==pin_num):\n",
    "        print(\"withrawn successful\")\n",
    "        curr_balance=bank_balance-withdrawn_amnt\n",
    "        print(\"your current bank balance :\",curr_balance)\n",
    "        break\n",
    "    else:\n",
    "        print(f\"pin is wrong please try again there only{2-attempt}attempt is left!!\")\n",
    "        attempt+=1\n",
    "else:\n",
    "    print(\"again its wrong so try again later\")"
   ]
  },
  {
   "cell_type": "code",
   "execution_count": null,
   "id": "66d695bd",
   "metadata": {},
   "outputs": [
    {
     "name": "stdout",
     "output_type": "stream",
     "text": [
      "tankyou for your feed back\n"
     ]
    }
   ],
   "source": [
    "#use while loop\n",
    "#get the feed back from user\n",
    "#if i give stop.it to print like \"thankyou\"\n",
    "\n",
    "\n",
    "while(\"true\"):\n",
    "    feed_back=input(\"enter your feedback:\")\n",
    "    if(feed_back==\"stop\"):\n",
    "        print(\"tankyou for your feed back\")\n",
    "        break"
   ]
  },
  {
   "cell_type": "code",
   "execution_count": 14,
   "id": "f646bb22",
   "metadata": {},
   "outputs": [
    {
     "name": "stdout",
     "output_type": "stream",
     "text": [
      "hello my name is arunroy.i am 50years old\n"
     ]
    }
   ],
   "source": [
    "#function -by using a def keyword\n",
    "\n",
    "def myfunc(f_name,l_name,age):\n",
    "    print(f\"hello my name is {f_name}{l_name}.i am {age}years old\")\n",
    "    \n",
    "myfunc(\"arun\",\"roy\",50)               #like place holder"
   ]
  },
  {
   "cell_type": "code",
   "execution_count": null,
   "id": "bdb87987",
   "metadata": {},
   "outputs": [
    {
     "name": "stdout",
     "output_type": "stream",
     "text": [
      "the child name is den\n"
     ]
    }
   ],
   "source": [
    "#parameters-  when we pass any variable or parameter inside a function\n",
    "\n",
    "\n",
    "#arguments- we use this when we call the function\n",
    "\n",
    "#------------------------------------------------------------------------------------\n",
    "\n",
    "#keyword arguments:- we want to give a variable name \n",
    "\n",
    "\n",
    "def my_fn(child1,child2,child3):\n",
    "    print(f\"the child name is {child1}\")\n",
    "my_fn(child1=\"den\",child2=\"joy\",child3=\"jimmy\")\n",
    "\n",
    "#----------------------------------------------------------------------------------\n"
   ]
  },
  {
   "cell_type": "code",
   "execution_count": null,
   "id": "dc72da75",
   "metadata": {},
   "outputs": [
    {
     "name": "stdout",
     "output_type": "stream",
     "text": [
      "my child name is jim\n"
     ]
    }
   ],
   "source": [
    "\n",
    "#arbiterary arguments-  we dont know how many arguments\n",
    "#we passed here-\"*args\"(we can pass multiple arguments)\n",
    "\n",
    "def my_f(*childs):\n",
    "    print(f\"my child name is {childs[4]}\")\n",
    "my_f(\"richu\",\"jo\",\"mog\",\"den\",\"jim\")\n"
   ]
  },
  {
   "cell_type": "code",
   "execution_count": 21,
   "id": "b3b40864",
   "metadata": {},
   "outputs": [
    {
     "name": "stdout",
     "output_type": "stream",
     "text": [
      "the fruit feature is circle\n"
     ]
    }
   ],
   "source": [
    "#arbitarary keyword argument-\"**kwargs\"--we dont know how many keywords we want to use in that occation we use this\n",
    "\n",
    "def my_f(**fruits):\n",
    "    print(f\"the fruit feature is {fruits[\"shape\"]}\")\n",
    "my_f(fruitname=\"apple\",color=\"red\",shape=\"circle\")\n"
   ]
  },
  {
   "cell_type": "code",
   "execution_count": null,
   "id": "07a303e4",
   "metadata": {},
   "outputs": [
    {
     "name": "stdout",
     "output_type": "stream",
     "text": [
      "my country is india\n",
      "my country is usa\n",
      "my country is china\n"
     ]
    }
   ],
   "source": [
    "#default parameter- is a value that is automatically used by a function if no value is given for that parameter when the function is called.\n",
    "\n",
    "def my_fun(country=\"india\"):\n",
    "    print(f\"my country is {country}\")\n",
    "my_fun()\n",
    "my_fun(\"usa\")\n",
    "my_fun(\"china\")"
   ]
  },
  {
   "cell_type": "code",
   "execution_count": 29,
   "id": "b475556e",
   "metadata": {},
   "outputs": [
    {
     "data": {
      "text/plain": [
       "165"
      ]
     },
     "execution_count": 29,
     "metadata": {},
     "output_type": "execute_result"
    }
   ],
   "source": [
    "def my_fn(x):\n",
    "    return 5*x\n",
    "my_fn(5)\n",
    "my_fn(9)\n",
    "my_fn(50)\n",
    "my_fn(33)\n",
    "\n",
    "\n",
    "#RETURN\n",
    "#it go with all the function call and display what you want\n",
    "# and it shows the last call answer only (shortcut) \n",
    "#it performes in a single line\n",
    "\n"
   ]
  },
  {
   "cell_type": "code",
   "execution_count": 31,
   "id": "f0f6a55d",
   "metadata": {},
   "outputs": [
    {
     "name": "stdout",
     "output_type": "stream",
     "text": [
      "25\n",
      "45\n",
      "250\n",
      "165\n"
     ]
    }
   ],
   "source": [
    "def my_fn(x):\n",
    "    print(5*x) \n",
    "my_fn(5)\n",
    "my_fn(9)\n",
    "my_fn(50)\n",
    "my_fn(33)\n",
    "\n",
    "#PRINT\n",
    "\n",
    "#it go with all the func call and display all the operation\n",
    "#it show all the func calls \n"
   ]
  },
  {
   "cell_type": "code",
   "execution_count": null,
   "id": "92aee727",
   "metadata": {},
   "outputs": [],
   "source": [
    "#LEGB\n",
    "#L - LOCAL\n",
    "#E - ENCLOSING\n",
    "#G - GLOBAL\n",
    "#B - BUILD IN FUNCTION"
   ]
  },
  {
   "cell_type": "code",
   "execution_count": 5,
   "id": "560dca71",
   "metadata": {},
   "outputs": [
    {
     "name": "stdout",
     "output_type": "stream",
     "text": [
      "global\n"
     ]
    }
   ],
   "source": [
    "x=\"global\"\n",
    "def outer():\n",
    "    #x=\"enclosing\"\n",
    "    def inner():\n",
    "       # x=\"local\"\n",
    "        print(x)\n",
    "    inner()\n",
    "outer()"
   ]
  },
  {
   "cell_type": "code",
   "execution_count": 14,
   "id": "015f467b",
   "metadata": {},
   "outputs": [
    {
     "name": "stdout",
     "output_type": "stream",
     "text": [
      "2\n",
      "3\n",
      "5\n",
      "7\n",
      "11\n",
      "13\n",
      "17\n",
      "19\n",
      "23\n",
      "29\n"
     ]
    }
   ],
   "source": [
    "#prime numbers= 2,3,5,7,11,13.............\n",
    "\n",
    "def primenumber(n):\n",
    "    if(n<=1):\n",
    "        return False\n",
    "    for i in range(2,n):\n",
    "        if(n%i==0):\n",
    "            return False\n",
    "    return True\n",
    "for i in range(31):\n",
    "    if(primenumber(i)):\n",
    "        print(i)\n"
   ]
  },
  {
   "cell_type": "code",
   "execution_count": 22,
   "id": "ee995235",
   "metadata": {},
   "outputs": [
    {
     "data": {
      "text/plain": [
       "24"
      ]
     },
     "execution_count": 22,
     "metadata": {},
     "output_type": "execute_result"
    }
   ],
   "source": [
    "#factorial of a number\n",
    "\n",
    "\n",
    "def fact(n):\n",
    "    result=1\n",
    "    for i in range(1,n+1):\n",
    "        result*=i\n",
    "    return result\n",
    "fact(4)\n",
    "\n"
   ]
  },
  {
   "cell_type": "code",
   "execution_count": 27,
   "id": "0b5ad37a",
   "metadata": {},
   "outputs": [
    {
     "name": "stdout",
     "output_type": "stream",
     "text": [
      "its palindrome\n",
      "madam\n"
     ]
    }
   ],
   "source": [
    "#palindrome cheking\n",
    "\n",
    "x=input(\"enter the word:\")\n",
    "x_rev=x[::-1]\n",
    "if(x_rev==x):\n",
    "    print(\"its palindrome\")\n",
    "    print(x)\n",
    "else:\n",
    "    print(\"not palindrome\")"
   ]
  },
  {
   "cell_type": "code",
   "execution_count": 17,
   "id": "00ea66f6",
   "metadata": {},
   "outputs": [
    {
     "name": "stdout",
     "output_type": "stream",
     "text": [
      "[134, 'True']\n",
      "['True', 'False']\n",
      "['False', 'True', 4.5, 23, 134, 'richu', 'chahchu']\n"
     ]
    }
   ],
   "source": [
    "\n",
    "#DAY-03\n",
    "\n",
    "\n",
    "# LIST - collection of data types\n",
    "# it is orderd,mutable,heterogenous\n",
    "# we can use diffrent data types like intiger,boolean,float ect.......\n",
    "\n",
    "list1=[\"chahchu\",\"richu\",134,23,4.5,\"True\",\"False\"]\n",
    "\n",
    "\n",
    "#slicing\n",
    "\n",
    "#positive indexing - it start with 0\n",
    "#negative indexing - it is a reverse order and start with -1\n",
    "\n",
    "print(list1[-5:-1:3]) #(it print towards right side)\n",
    "\n",
    "#end -1 (-1-1=-2)\n",
    "print(list1[-2:])\n",
    "\n",
    "#if the step is negative (start,end+1,step)\n",
    "\n",
    "print(list1[::-1])#(it print towards left)\n",
    "\n"
   ]
  },
  {
   "cell_type": "code",
   "execution_count": null,
   "id": "1f8001c8",
   "metadata": {},
   "outputs": [],
   "source": [
    "#list methods\n",
    "\n",
    "# append,copy,sort,insert,len,count,remove,extend,clear,pop,reverse,count,index\n",
    "\n",
    "# append-add the value at the end of the list\n",
    "# insert- you can add values at the specific position\n",
    "# extend- it can ensure to combine the list with another\n",
    "# pop-remove the value based on index\n",
    "# remove- you can mention the element to remove \n",
    "# copy - you can copy the list\n",
    "# reverse - it will reverse the list of elements\n",
    "# sort - it will arrange the elements by asec,desc values\n",
    "# clear-clear the data \n",
    "# count- to count the repeating data\n",
    "# index- its used for slicing"
   ]
  },
  {
   "cell_type": "code",
   "execution_count": 50,
   "id": "54c923c1",
   "metadata": {},
   "outputs": [
    {
     "name": "stdout",
     "output_type": "stream",
     "text": [
      "['chahchu', 'richu', 134, 23, 4.5, 'True', 'False', 'dingu', 'True1']\n",
      "['chahchu', 'richu', 134, 23, 4.5, 'True', 'False', 'dingu', 'True1']\n",
      "['True1', 'dingu', 'False', 'True', 4.5, 23, 134, 'richu', 'chahchu']\n",
      "[1, 2, 3, 4, 5, 6, 7]\n",
      "[]\n"
     ]
    }
   ],
   "source": [
    "list1=[\"chahchu\",\"richu\",134,23,4.5,\"True\",\"False\"]\n",
    "list2=[\"True1\",\"False1\"]\n",
    "\n",
    "\n",
    "list1.append(\"dingu\")\n",
    "list1.insert(1,\"mingu\")\n",
    "list1.extend(list2)\n",
    "list1.pop(1)\n",
    "list1.remove(\"False1\")\n",
    "print(list1)\n",
    "list3=list1.copy()\n",
    "list1.reverse()\n",
    "\n",
    "listsrt=[1,6,7,5,2,3,4]\n",
    "listsrt.sort()\n",
    "\n",
    "\n",
    "listclr=[3,4,5,6,7,84,7]\n",
    "listclr.clear()\n",
    "\n",
    "\n",
    "\n",
    "\n",
    "print(list3)\n",
    "print(list1)\n",
    "print(listsrt)\n",
    "print(listclr)\n"
   ]
  },
  {
   "cell_type": "code",
   "execution_count": 61,
   "id": "1dea0203",
   "metadata": {},
   "outputs": [
    {
     "name": "stdout",
     "output_type": "stream",
     "text": [
      "['10', '20', '30', '40', '50']\n"
     ]
    }
   ],
   "source": [
    "list2=[]\n",
    "n=int(input(\"enter the limit:\"))\n",
    "for i in range(n):\n",
    "    num=input(\"enter the value:\")\n",
    "    list2.append(num)\n",
    "print(list2)\n"
   ]
  },
  {
   "cell_type": "code",
   "execution_count": 75,
   "id": "4fb9e3d1",
   "metadata": {},
   "outputs": [
    {
     "name": "stdout",
     "output_type": "stream",
     "text": [
      "('chahchu', 'richu', 134, 23, 4.5, 23, 'True', 23, 'False')\n",
      "('richu', 134, 23, 4.5)\n",
      "count= 3\n",
      "index= 2\n"
     ]
    }
   ],
   "source": [
    "#tuple-()\n",
    "#orders and immutable\n",
    "#only two operations are applicable (count,index)\n",
    "\n",
    "\n",
    "tuple1=(\"chahchu\",\"richu\",134,23,4.5,23,\"True\",23,\"False\")\n",
    "tuple2=(\"True1\",\"False1\")\n",
    "\n",
    "print(tuple1)\n",
    "print(tuple1[1:5]) #slicing\n",
    "\n",
    "print(\"count=\", tuple1.count(23))\n",
    "\n",
    "print(\"index=\", tuple1.index(134))\n",
    "\n"
   ]
  },
  {
   "cell_type": "code",
   "execution_count": null,
   "id": "5c886ea4",
   "metadata": {},
   "outputs": [
    {
     "name": "stdout",
     "output_type": "stream",
     "text": [
      "{1, 3, 4, 5, 6, 44, 222}\n",
      "{1, 3, 4, 5, 6, 10, 44, 222}\n",
      "{1, 3, 4, 5, 6, 10, 44}\n",
      "{1, 3, 4, 5, 6, 10, 11, 22, 44}\n",
      "{1, 3, 4, 5, 6, 10, 11, 44}\n",
      "{1, 44, 222, 6}\n",
      "{1, 3, 4, 5, 6, 44, 333, 55, 666, 222}\n",
      "{3, 4, 5}\n"
     ]
    }
   ],
   "source": [
    "#set-{}\n",
    "# it doesnt allows the duplicates\n",
    "# it doest allow slicing\n",
    "# it doesnt allow indexing\n",
    "# unorderd\n",
    "\n",
    "# set methods\n",
    "\n",
    "# add,update,remove,discard,remove,pop\n",
    "# operations- union,intersection,diffrence\n",
    "\n",
    "\n",
    "#  set_1={}- empty set\n",
    "\n",
    "\n",
    "set1={1,222,3,3,4,222,44,5,6,44,}\n",
    "print(set1)\n",
    "\n",
    "set1.add(10) # also sorting occured\n",
    "print(set1)\n",
    "set1.remove(222)\n",
    "print(set1)\n",
    "set1.update([11,22])#add and update are same\n",
    "print(set1)\n",
    "set1.discard(22)\n",
    "print(set1)\n",
    "\n",
    "#----------------------------------------------------------------------------------------------------------------------------------------------------------\n",
    "\n",
    "set1={1,222,3,3,4,222,44,5,6,44,}\n",
    "\n",
    "set2={3,4,5,4,333,55,666,333,55}\n",
    "\n",
    "print(set1.difference(set2))\n",
    "\n",
    "print(set1.union(set2))\n",
    "\n",
    "print(set1.intersection(set2))\n",
    "\n",
    "\n",
    "\n"
   ]
  },
  {
   "cell_type": "code",
   "execution_count": 1,
   "id": "5bd672f9",
   "metadata": {},
   "outputs": [
    {
     "data": {
      "text/plain": [
       "8"
      ]
     },
     "execution_count": 1,
     "metadata": {},
     "output_type": "execute_result"
    }
   ],
   "source": [
    "#find the unique values\n",
    "\n",
    "def unique_item(text):\n",
    "    words=text.lower().split()\n",
    "    unique=set(words)#set-it is used for converting a list in to set\n",
    "    return len(unique)\n",
    "unique_item(\"Raju is a good boy but sometimes raju is a bad boy\")"
   ]
  },
  {
   "cell_type": "code",
   "execution_count": 3,
   "id": "7a8b9677",
   "metadata": {},
   "outputs": [
    {
     "data": {
      "text/plain": [
       "[1, 2, 3, 4, 5, 6]"
      ]
     },
     "execution_count": 3,
     "metadata": {},
     "output_type": "execute_result"
    }
   ],
   "source": [
    "#remove duplicates from a list\n",
    "\n",
    "\n",
    "def remove_dupli(num):\n",
    "    result=[]\n",
    "    for i in num:\n",
    "        if i not in result:\n",
    "            result.append(i)\n",
    "    return result\n",
    "list1=[1,2,1,1,1,3,4,5,6,4,5,]\n",
    "remove_dupli(list1)\n"
   ]
  },
  {
   "cell_type": "code",
   "execution_count": 4,
   "id": "6558369b",
   "metadata": {},
   "outputs": [
    {
     "name": "stdout",
     "output_type": "stream",
     "text": [
      "deepa\n",
      "kadhir\n",
      "priya\n"
     ]
    }
   ],
   "source": [
    "#print words longer than 3 letter from a list\n",
    "\n",
    "list1=[\"deepa\",\"kadhir\",\"joe\",\"sri\",\"priya\"]\n",
    "for i in list1:\n",
    "    if(len(i)>3):\n",
    "        print(i)"
   ]
  },
  {
   "cell_type": "code",
   "execution_count": null,
   "id": "fea0df72",
   "metadata": {},
   "outputs": [
    {
     "name": "stdout",
     "output_type": "stream",
     "text": [
      "{'name': 'raju', 'age': 20}\n",
      "dict_keys(['name', 'age'])\n",
      "dict_values(['raju', 20])\n",
      "{'name': 'ram', 'age': 30}\n",
      "{'a': 1, 'b': 2, 'c': 3}\n"
     ]
    }
   ],
   "source": [
    "\n",
    "# DAY - 05\n",
    "\n",
    "#DICTIONARY - ({})\n",
    "# it is a key value pairs\n",
    "\n",
    "dict1={\n",
    "    \"name\":\"raju\",\n",
    "    \"age\":20\n",
    "    }\n",
    "\n",
    "print(dict1)\n",
    "print(dict1.keys())\n",
    "print(dict1.values())\n",
    "\n",
    "\n",
    "dict_2={}#empty dictionary\n",
    "\n",
    "# DICT Keyword\n",
    "\n",
    "dict2=dict(name=\"ram\",age=30)\n",
    "print(dict2)\n",
    "\n",
    "\n",
    "dict4=dict([(\"a\",1),(\"b\",2),(\"c\",3)])\n",
    "print(dict4)  # by using list "
   ]
  },
  {
   "cell_type": "code",
   "execution_count": null,
   "id": "9d8512a8",
   "metadata": {},
   "outputs": [
    {
     "name": "stdout",
     "output_type": "stream",
     "text": [
      "kerela\n",
      "170\n",
      "raju\n"
     ]
    }
   ],
   "source": [
    "# important dictionary methods\n",
    "# get,setdefault,update,item,keys,values\n",
    "\n",
    "# 1. get method\n",
    "dict1={\"name\":\"raju\",\"age\":20,\"dept\":\"AI&ds\"}\n",
    "print(dict1.get(\"place\",\"kerela\"))\n",
    "print(dict1.get(\"height\",170)) #it is for get method to add to the dictionary\n",
    "print(dict1.get(\"name\")) # to get the variables  from the dict \n",
    "\n",
    "\n"
   ]
  },
  {
   "cell_type": "code",
   "execution_count": null,
   "id": "574582f0",
   "metadata": {},
   "outputs": [
    {
     "name": "stdout",
     "output_type": "stream",
     "text": [
      "{'name': 'raju', 'age': 20, 'email': 'abc.shanmugha.edu.in'}\n"
     ]
    }
   ],
   "source": [
    "# set default method\n",
    "\n",
    "dict1={\"name\":\"raju\",\"age\":20}\n",
    "dict1.setdefault(\"email\",\"abc.shanmugha.edu.in\")\n",
    "print(dict1) #once you use setdefault,set the value to the dictionary\n",
    "#when you print that All items are visible"
   ]
  },
  {
   "cell_type": "code",
   "execution_count": 19,
   "id": "23dc180f",
   "metadata": {},
   "outputs": [
    {
     "name": "stdout",
     "output_type": "stream",
     "text": [
      "{'name': 'raju', 'age': 20, 'place': 'kerala'}\n",
      "{'name': 'hemanth', 'age': 20, 'place': 'kerala'}\n"
     ]
    }
   ],
   "source": [
    "#Update method\n",
    "\n",
    "dict1={\n",
    "    \"name\":\"raju\",\n",
    "    \"age\":20\n",
    "    }\n",
    "\n",
    "dict1.update({\"place\":\"kerala\"})\n",
    "print(dict1)\n",
    "\n",
    "dict1[\"name\"]=\"hemanth\"\n",
    "print(dict1)"
   ]
  },
  {
   "cell_type": "code",
   "execution_count": null,
   "id": "db4eb33a",
   "metadata": {},
   "outputs": [
    {
     "name": "stdout",
     "output_type": "stream",
     "text": [
      "dict_items([('name', 'raju'), ('age', 20)])\n"
     ]
    }
   ],
   "source": [
    "dict1={\n",
    "    \"name\":\"raju\",\n",
    "    \"age\":20\n",
    "    }\n",
    "\n",
    "print(dict1.items()) # it give the items\n"
   ]
  },
  {
   "cell_type": "code",
   "execution_count": 30,
   "id": "9006f483",
   "metadata": {},
   "outputs": [
    {
     "name": "stdout",
     "output_type": "stream",
     "text": [
      "{'age': 20}\n"
     ]
    },
    {
     "data": {
      "text/plain": [
       "'raju'"
      ]
     },
     "execution_count": 30,
     "metadata": {},
     "output_type": "execute_result"
    }
   ],
   "source": [
    "# delet method -del.pop (delete the mentioned variable)\n",
    "dict1={\n",
    "    \"name\":\"raju\",\n",
    "    \"age\":20\n",
    "    }\n",
    "del dict1[\"name\"]\n",
    "print(dict1)\n",
    "\n",
    "#pop\n",
    "dict1={\n",
    "    \"name\":\"raju\",\n",
    "    \"age\":20\n",
    "    }\n",
    "dict1.pop(\"height\",\"none\")\n",
    "dict1.pop(\"name\")"
   ]
  },
  {
   "cell_type": "code",
   "execution_count": null,
   "id": "cc48077e",
   "metadata": {},
   "outputs": [
    {
     "name": "stdout",
     "output_type": "stream",
     "text": [
      "{'Banana': 1, 'apple': 2, 'banana': 1, 'kiwi': 1}\n"
     ]
    }
   ],
   "source": [
    "#frequency dictionary from text\n",
    "\n",
    "text=\"Banana apple banana apple kiwi\"\n",
    "dict1={}\n",
    "for i in text.split():\n",
    "    dict1[i]=dict1.get(i,0)+1 # \"0\"for the index of dict1\n",
    "print(dict1)\n"
   ]
  },
  {
   "cell_type": "code",
   "execution_count": null,
   "id": "25facdb8",
   "metadata": {},
   "outputs": [
    {
     "name": "stdout",
     "output_type": "stream",
     "text": [
      "{'H': 1, 'e': 1, 'l': 3, 'o': 2, 'W': 1, 'r': 1, 'd': 1}\n"
     ]
    }
   ],
   "source": [
    "#frequency dictionary from text with space in sentence\n",
    "\n",
    "text=\"Hello World\"\n",
    "dict1={}\n",
    "for i in text:\n",
    "    text.split()\n",
    "    if (i!=\" \"):\n",
    "        dict1[i]=dict1.get(i,0)+1 # \"0\"for the index of dict1\n",
    "print(dict1)\n"
   ]
  },
  {
   "cell_type": "code",
   "execution_count": 19,
   "id": "2fd9ac59",
   "metadata": {},
   "outputs": [
    {
     "name": "stdout",
     "output_type": "stream",
     "text": [
      "40\n"
     ]
    }
   ],
   "source": [
    "#nulti level nesting\n",
    "\n",
    "dict1={\n",
    "    \"class1\":{\n",
    "        \"A\":{\"name\":\"abcd\",\"age\":\"25\"},\n",
    "        \"B\":{\"name\":\"efgh\",\"age\":\"23\"}\n",
    "    },\n",
    "    \"class2\":{\n",
    "        \"C\":{\"name\":\"ijk\",\"age\":\"40\"},\n",
    "        \"D\":{\"name\":\"lmn\",\"age\":\"45\"}\n",
    "    }\n",
    "}\n",
    "print(dict1[\"class2\"][\"C\"][\"age\"])"
   ]
  },
  {
   "cell_type": "code",
   "execution_count": 22,
   "id": "17585d29",
   "metadata": {},
   "outputs": [
    {
     "name": "stdout",
     "output_type": "stream",
     "text": [
      "unknown\n",
      "ccc\n"
     ]
    }
   ],
   "source": [
    "#safe lookup\n",
    "\n",
    "users={\n",
    "    101:\"aaa\",\n",
    "    102:\"bbb\",\n",
    "    103:\"ccc\"\n",
    "\n",
    "}\n",
    "def my_fun(users,userid):\n",
    "    return users.get(userid,\"unknown\")\n",
    "print(my_fun(users,105))\n",
    "print(my_fun(users,103))"
   ]
  },
  {
   "cell_type": "code",
   "execution_count": null,
   "id": "e5e3cbeb",
   "metadata": {},
   "outputs": [],
   "source": [
    "\n",
    "\n",
    "# DAY -06\n",
    "\n",
    "\n",
    "#  file concept in python\n",
    "\n",
    "#(____.txt) - format\n",
    "\n",
    "#r-read mode\n",
    "\n",
    "\n",
    "file1=open(r\"C:\\Users\\hp\\Downloads\\File handle\\Demo1.txt\")\n",
    "#Absolute path-entire path (option-copy path)\n",
    "#Relative path - particular file name (option - copy relative psth)\n",
    "\n",
    "# Files are named locations of disk to store relevant information\n",
    "# operations - open(),read(),write(),append()\n",
    "\n",
    "# 1- open the file location\n",
    "# 2-read/write operation\n",
    "# 3-close the file\n",
    "\n",
    "\n",
    "# the file can be a text file,binary file,csv file (coma seprate value)\n",
    "\n",
    "\n",
    "# working of open() function\n",
    "\n",
    "# syntax-    file=open(\"filepath\",\"mode\")\n",
    "\n",
    "# 1.r.read the file\n",
    "# 2.w.write the content to the file (existing data will erase and add the new data)\n",
    "# 3.a.append the content to the file(the existing data will not erase it add to end (didn't override))\n",
    "# 4.r+.to read and write the content\n",
    "# 5.w+.to write and read the content(it will override the existing content)\n",
    "# 6.a+.to append and read the content (it willnot override the content)\n"
   ]
  },
  {
   "cell_type": "code",
   "execution_count": null,
   "id": "0a3bb579",
   "metadata": {},
   "outputs": [
    {
     "name": "stdout",
     "output_type": "stream",
     "text": [
      "<_io.TextIOWrapper name='Demo1.txt' mode='r' encoding='cp1252'>\n",
      "<_io.TextIOWrapper name='C:\\\\Users\\\\hp\\\\Downloads\\\\File handle\\\\Demo1.txt' mode='r' encoding='cp1252'>\n",
      "this is india\n",
      "\n",
      "--------------------------------------------------------\n",
      "this is india\n",
      "\n",
      "--------------------------------------------------------\n",
      "['this is india\\n']\n",
      "--------------------------------------------------------\n"
     ]
    }
   ],
   "source": [
    "# read mode\n",
    "file=open(\"Demo1.txt\",\"r\")\n",
    "print(file)\n",
    "file.name  # name of file\n",
    "file.mode  # mode of file\n",
    "file.close()\n",
    "\n",
    "# or\n",
    "file=open(r\"C:\\Users\\hp\\Downloads\\File handle\\Demo1.txt\")\n",
    "print(file)\n",
    "\n",
    "\n",
    "# reding from a file \n",
    "# 1.read,2.read line,3.readlines\n",
    "\n",
    "# 1.read -- read the entire file \n",
    "# 2.readline--reads a one line \n",
    "# 3.readlines -- it will read line by line as a list\n",
    "\n",
    "# read()\n",
    "file=open(\"Demo1.txt\",\"r\")\n",
    "data=file.read()\n",
    "print(data)\n",
    "\n",
    "\n",
    "print(\"--------------------------------------------------------\")\n",
    "\n",
    "\n",
    "\n",
    "file=open(\"Demo1.txt\",\"r\")  # print sigle line\n",
    "data=file.readline()\n",
    "print(data)\n",
    "\n",
    "\n",
    "print(\"--------------------------------------------------------\")\n",
    "\n",
    "\n",
    "\n",
    "file=open(\"Demo1.txt\",\"r\")\n",
    "data=file.readlines() # it give like a list of string\n",
    "print(data)\n",
    "\n",
    "\n",
    "print(\"--------------------------------------------------------\")\n",
    "\n",
    "\n"
   ]
  },
  {
   "cell_type": "code",
   "execution_count": null,
   "id": "19e5a376",
   "metadata": {},
   "outputs": [
    {
     "name": "stdout",
     "output_type": "stream",
     "text": [
      "---------------------------------------------------------------------------------------------------------\n",
      "14\n"
     ]
    }
   ],
   "source": [
    "# write ()-write(sigle line),writelines(more than two lines)\n",
    "\n",
    "\n",
    "file=open(\"Demo1.txt\",\"w\")\n",
    "cont=[\"this is india\\n\",\"I am indian only\\n\",\"we are in AI class\"]\n",
    "data=file.writelines(cont) \n",
    "print(data)\n",
    "\n",
    "print(\"---------------------------------------------------------------------------------------------------------\")\n",
    "\n",
    "file=open(\"Demo1.txt\",\"w\")\n",
    "cont=\"this is india\\n\"\n",
    "data=file.write(cont) \n",
    "print(data)\n",
    "\n",
    "\n",
    "# it added to the file but all existing file was erased"
   ]
  },
  {
   "cell_type": "code",
   "execution_count": 48,
   "id": "eea382f3",
   "metadata": {},
   "outputs": [
    {
     "name": "stdout",
     "output_type": "stream",
     "text": [
      "this is india\n",
      "this is china\n",
      "we are in AI class\n",
      "this is china\n",
      "we are in AI class\n",
      "this is china\n",
      "we are in AI class\n",
      "this is china\n",
      "we are in AI class\n",
      "this is china\n",
      "we are in AI class\n",
      "this is china\n",
      "we are in AI class\n",
      "\n",
      "---------------------------------------------------------------------------------------------------------\n"
     ]
    }
   ],
   "source": [
    "# append()\n",
    "\n",
    "\n",
    "file=open(\"Demo1.txt\",\"a\")\n",
    "file.write(\"this is china\\n\")\n",
    "file.write(\"we are in AI class\\n\")\n",
    "file=open(\"Demo1.txt\",\"r\")\n",
    "# write is used for append\n",
    "print(file.read())\n",
    "# print no of time you want there is no limit\n",
    "print(\"---------------------------------------------------------------------------------------------------------\")\n"
   ]
  },
  {
   "cell_type": "code",
   "execution_count": 53,
   "id": "1fb0710a",
   "metadata": {},
   "outputs": [
    {
     "name": "stdout",
     "output_type": "stream",
     "text": [
      "this is india\n",
      "this is china\n",
      "we are in AI class\n",
      "this is china\n",
      "we are in AI class\n",
      "this is china\n",
      "we are in AI class\n",
      "this is china\n",
      "we are in AI class\n",
      "this is china\n",
      "we are in AI class\n",
      "this is china\n",
      "we are in AI class\n",
      "you are greatyou are greatyou are great\n",
      "\n",
      "this is india\n",
      "this is china\n",
      "we are in AI class\n",
      "this is china\n",
      "we are in AI class\n",
      "this is china\n",
      "we are in AI class\n",
      "this is china\n",
      "we are in AI class\n",
      "this is china\n",
      "we are in AI class\n",
      "this is china\n",
      "we are in AI class\n",
      "you are greatyou are greatyou are great\n",
      "you are great\n",
      "\n"
     ]
    }
   ],
   "source": [
    "#read and write r+\n",
    "\n",
    "file=open(\"Demo1.txt\",\"r+\")\n",
    "cont=file.read()\n",
    "print(cont)\n",
    "file.write(\"you are great\\n\")\n",
    "\n",
    "file=open(\"Demo1.txt\",\"r+\")\n",
    "cont=file.read()\n",
    "print(cont)\n"
   ]
  },
  {
   "cell_type": "code",
   "execution_count": null,
   "id": "af4758e9",
   "metadata": {},
   "outputs": [
    {
     "name": "stdout",
     "output_type": "stream",
     "text": [
      "\n"
     ]
    }
   ],
   "source": [
    "#write and read w+\n",
    "\n",
    "file=open(\"Demo1.txt\",\"w+\")\n",
    "file.write(\"you guys are very smart\")\n",
    "print(file.read()) #added to the file"
   ]
  },
  {
   "cell_type": "code",
   "execution_count": 56,
   "id": "7dfc217a",
   "metadata": {},
   "outputs": [
    {
     "name": "stdout",
     "output_type": "stream",
     "text": [
      "\n"
     ]
    }
   ],
   "source": [
    "# append and read a+ \n",
    "\n",
    "\n",
    "file=open(\"Demo1.txt\",\"a+\")\n",
    "file.write(\"you are very good\\n\")\n",
    "file.write(\"you are nice\\n\")\n",
    "print(file.read())\n",
    "\n",
    "\n",
    "\n"
   ]
  },
  {
   "cell_type": "code",
   "execution_count": null,
   "id": "d827a4bb",
   "metadata": {},
   "outputs": [],
   "source": [
    "# csv file handling\n",
    "\n",
    "# structured - Tabular data\n",
    "# unstructured - \n",
    "\n",
    "import pandas as pd # it for cleaning unwanted or irregular datas and all the operations like inserting modifying ect.... all are done by pandas)\n"
   ]
  },
  {
   "cell_type": "code",
   "execution_count": null,
   "id": "e061d183",
   "metadata": {},
   "outputs": [],
   "source": [
    "pip install openpyxl # installing openpyxl"
   ]
  },
  {
   "cell_type": "code",
   "execution_count": null,
   "id": "fe4be9fb",
   "metadata": {},
   "outputs": [
    {
     "name": "stdout",
     "output_type": "stream",
     "text": [
      "    SI.NO      name     salary\n",
      "0       1     richu       1000\n",
      "1       2    godson       2500\n",
      "2       3      abhi          2\n",
      "3       4     akash          1\n",
      "4       5    noufal          0\n",
      "5       6    razeen         -1\n",
      "6       7   jameela    1000000\n",
      "7       8      shaz     100000\n",
      "8       9    sandra       9000\n",
      "9      10      fady       3000\n",
      "10     11    mufeed        200\n",
      "11     12      fiza        500\n",
      "12     13     minha          3\n",
      "13     14   abishek          6\n",
      "14     15  athulyaa          4\n",
      "15     16     kiran          0\n",
      "16     17   kishore  100000000\n",
      "17     18      manu     300000\n",
      "18     19      raju        500\n"
     ]
    }
   ],
   "source": [
    "\n",
    "# excel format (for xlsx format)\n",
    "data = pd.read_excel(\"Book1.xlsx\")\n",
    "print(data)"
   ]
  },
  {
   "cell_type": "code",
   "execution_count": null,
   "id": "4a431cca",
   "metadata": {},
   "outputs": [],
   "source": [
    "pip install pandas  #installing pandas\n",
    "\n",
    "# in panda or any package we done want to use print just give the variable name "
   ]
  },
  {
   "cell_type": "code",
   "execution_count": null,
   "id": "a5799ed9",
   "metadata": {},
   "outputs": [
    {
     "name": "stdout",
     "output_type": "stream",
     "text": [
      "    SI.NO      name     salary\n",
      "0       1     richu       1000\n",
      "1       2    godson       2500\n",
      "2       3      abhi          2\n",
      "3       4     akash          1\n",
      "4       5    noufal          0\n",
      "5       6    razeen         -1\n",
      "6       7   jameela    1000000\n",
      "7       8      shaz     100000\n",
      "8       9    sandra       9000\n",
      "9      10      fady       3000\n",
      "10     11    mufeed        200\n",
      "11     12      fiza        500\n",
      "12     13     minha          3\n",
      "13     14   abishek          6\n",
      "14     15  athulyaa          4\n",
      "15     16     kiran          0\n",
      "16     17   kishore  100000000\n",
      "17     18      manu     300000\n",
      "18     19      raju        500\n"
     ]
    }
   ],
   "source": [
    "# excel format for csv file \n",
    "import panda as pd\n",
    "data = pd.read_csv(\"Book1.csv\")\n",
    "print(data)"
   ]
  },
  {
   "cell_type": "code",
   "execution_count": null,
   "id": "fbf289b8",
   "metadata": {},
   "outputs": [
    {
     "name": "stdout",
     "output_type": "stream",
     "text": [
      "you guys are very smartyou are very good\n",
      "you are niceyou are very good\n",
      "you are nice\n"
     ]
    }
   ],
   "source": [
    "# read a file and return longest sequence\n",
    "\n",
    "# with -no need to use close function\n",
    "# import re  re-regular expresion(',/?;><.= ect..  a-z,A-Z)\n",
    "\n",
    "#strip()- it is used to remove unwanted extra spaces,typos ect....\n",
    "def ls(filepath):\n",
    "    with open(filepath,\"r\") as file:\n",
    "        text=file.read()\n",
    "        sentence=text.split(\".\")\n",
    "        max_sentence=max(sentence,key=len)\n",
    "        return max_sentence.strip()\n",
    "print(ls(\"Demo1.txt\"))\n"
   ]
  },
  {
   "cell_type": "code",
   "execution_count": 8,
   "id": "e3702a71",
   "metadata": {},
   "outputs": [
    {
     "ename": "TypeError",
     "evalue": "'str' object cannot be interpreted as an integer",
     "output_type": "error",
     "traceback": [
      "\u001b[31m---------------------------------------------------------------------------\u001b[39m",
      "\u001b[31mTypeError\u001b[39m                                 Traceback (most recent call last)",
      "\u001b[36mCell\u001b[39m\u001b[36m \u001b[39m\u001b[32mIn[8]\u001b[39m\u001b[32m, line 9\u001b[39m\n\u001b[32m      7\u001b[39m         max_sentence=\u001b[38;5;28mmax\u001b[39m(sentences,key=\u001b[38;5;28mlen\u001b[39m)\n\u001b[32m      8\u001b[39m         \u001b[38;5;28;01mreturn\u001b[39;00m max_sentence\n\u001b[32m----> \u001b[39m\u001b[32m9\u001b[39m \u001b[38;5;28mprint\u001b[39m(\u001b[43mls\u001b[49m\u001b[43m(\u001b[49m\u001b[33;43m\"\u001b[39;49m\u001b[33;43mDemo1.txt\u001b[39;49m\u001b[33;43m\"\u001b[39;49m\u001b[43m)\u001b[49m)\n\u001b[32m     13\u001b[39m \u001b[38;5;66;03m# for i in sentence:\u001b[39;00m\n\u001b[32m     14\u001b[39m     \u001b[38;5;66;03m# if(i.strip())\u001b[39;00m\n\u001b[32m     15\u001b[39m     \u001b[38;5;66;03m#     i.strip()\u001b[39;00m\n",
      "\u001b[36mCell\u001b[39m\u001b[36m \u001b[39m\u001b[32mIn[8]\u001b[39m\u001b[32m, line 5\u001b[39m, in \u001b[36mls\u001b[39m\u001b[34m(filepath)\u001b[39m\n\u001b[32m      3\u001b[39m \u001b[38;5;28;01mwith\u001b[39;00m \u001b[38;5;28mopen\u001b[39m(filepath,\u001b[33m\"\u001b[39m\u001b[33mr\u001b[39m\u001b[33m\"\u001b[39m) \u001b[38;5;28;01mas\u001b[39;00m file:\n\u001b[32m      4\u001b[39m     text=file.read()\n\u001b[32m----> \u001b[39m\u001b[32m5\u001b[39m     sentence=\u001b[43mtext\u001b[49m\u001b[43m.\u001b[49m\u001b[43msplit\u001b[49m\u001b[43m(\u001b[49m\u001b[33;43mr\u001b[39;49m\u001b[33;43m\"\u001b[39;49m\u001b[33;43m.>/?,!\u001b[39;49m\u001b[33;43m\"\u001b[39;49m\u001b[43m,\u001b[49m\u001b[43mtext\u001b[49m\u001b[43m)\u001b[49m\n\u001b[32m      6\u001b[39m     sentences=[i.strip() \u001b[38;5;28;01mfor\u001b[39;00m i \u001b[38;5;129;01min\u001b[39;00m sentence \u001b[38;5;28;01mif\u001b[39;00m(i.strip())]\n\u001b[32m      7\u001b[39m     max_sentence=\u001b[38;5;28mmax\u001b[39m(sentences,key=\u001b[38;5;28mlen\u001b[39m)\n",
      "\u001b[31mTypeError\u001b[39m: 'str' object cannot be interpreted as an integer"
     ]
    }
   ],
   "source": [
    "\n",
    "import re\n",
    "def ls(filepath):\n",
    "    with open(filepath,\"r\") as file:\n",
    "        text=file.read()\n",
    "        sentence=text.split(r\".>/?,!\",text)\n",
    "        sentences=[i.strip() for i in sentence if(i.strip())]\n",
    "        max_sentence=max(sentences,key=len)\n",
    "        return max_sentence\n",
    "print(ls(\"Demo1.txt\"))\n",
    "\n",
    "\n",
    "\n",
    "# for i in sentence:\n",
    "    # if(i.strip())\n",
    "    #     i.strip()"
   ]
  },
  {
   "cell_type": "code",
   "execution_count": null,
   "id": "9647ae88",
   "metadata": {},
   "outputs": [],
   "source": [
    "\n",
    "# DAY - 07\n",
    "\n",
    "\n",
    "# exception handling error\n",
    "\n",
    "\n",
    "# IO error - if the file can't be open\n",
    "# keyboard interrupt - when an unrequired key is passed by the user\n",
    "# value error - when built-in function receives a wrong argument \n",
    "# EOF error - if end of file is hit without reading any data\n",
    "# import error - if it is unable to find the module\n",
    "\n",
    "\n",
    "\n",
    "# type error - when we use multiple data types for list and tuple ect.. is not a problem for the other operations other than this\n",
    "# syntax error - the problem in program due to which the program will stop the execution\n",
    "# name error - while we using the variable unfortunatly we use wrong spelling or any other problem \n",
    "# indendation error - there is no indendation or more than one \n",
    "# zero devitision error - any thing divided by zero\n",
    "# key error - \n",
    "# index error - we calling the higher index numbers which is not present\n",
    "# attribute error\n",
    "# compilation error\n",
    "# run timr error\n",
    "# arithmrtic error\n",
    "# module not found error / import error\n",
    "# file not found error\n",
    "# value error\n",
    "# key board interrupt error - when we stop the execution while rnning the code\n"
   ]
  },
  {
   "cell_type": "code",
   "execution_count": null,
   "id": "c79fee20",
   "metadata": {},
   "outputs": [],
   "source": [
    "# try \n",
    "\n",
    "\n",
    "# the try block lets you test a block of code for errors                                                    - it execute the code\n",
    "# the except block lets you handle the error                                                                - it will handle the errors\n",
    "# the else block lets you execute code when there is no error                                               - it will execute there is no error \n",
    "# the finally block lets you execute code,reagardless of the result of the try and except blocks            - it always execute"
   ]
  },
  {
   "cell_type": "code",
   "execution_count": 18,
   "id": "88843d4e",
   "metadata": {},
   "outputs": [
    {
     "name": "stdout",
     "output_type": "stream",
     "text": [
      "please enter the intiger value\n",
      "The code executed successfully\n"
     ]
    }
   ],
   "source": [
    "\n",
    "try:\n",
    "    number=int(input(\"enter the number :\"))\n",
    "    var=number/0\n",
    "    print(var)\n",
    "except(ZeroDivisionError):\n",
    "     print(\"It divide by zero\")\n",
    "except(ValueError):\n",
    "    print(\"please enter the intiger value\")\n",
    "else:\n",
    "    print(\"it divides successfully\")\n",
    "finally:\n",
    "    print(\"The code executed successfully\")"
   ]
  },
  {
   "cell_type": "code",
   "execution_count": 17,
   "id": "d37865ed",
   "metadata": {},
   "outputs": [
    {
     "name": "stdout",
     "output_type": "stream",
     "text": [
      "you guys are very smartyou are very good\n",
      "you are niceyou are very good\n",
      "you are nice\n",
      "\n",
      "the file read successfully \n",
      "its done\n"
     ]
    }
   ],
   "source": [
    "try:\n",
    "    file=open(\"Demo1.txt\",\"r\")\n",
    "    cont=file.read()\n",
    "    print(cont)\n",
    "except(FileNotFoundError):\n",
    "    print(\"file not found \")\n",
    "else:\n",
    "    print(\"the file read successfully \")\n",
    "finally:\n",
    "    print(\"its done\")"
   ]
  },
  {
   "cell_type": "code",
   "execution_count": 25,
   "id": "4a158e44",
   "metadata": {},
   "outputs": [
    {
     "name": "stdout",
     "output_type": "stream",
     "text": [
      "eligible for voting\n",
      "its done\n"
     ]
    }
   ],
   "source": [
    "# get the age from user\n",
    "# if age is above 18,then the person is eligible for voting\n",
    "# else not eligible\n",
    "# use try,except,else and finally\n",
    "\n",
    "try:\n",
    "    age=int(input(\"enter the age :\"))\n",
    "    if age>18:\n",
    "        print(\"eligible for voting\")\n",
    "    else:\n",
    "        print(\"not eligible\")\n",
    "\n",
    "\n",
    "except(ValueError):\n",
    "    print(\"enter the valid input\")\n",
    "\n",
    "finally:\n",
    "    print(\"its done\")\n",
    "    "
   ]
  },
  {
   "cell_type": "code",
   "execution_count": 6,
   "id": "140dc70b",
   "metadata": {},
   "outputs": [
    {
     "name": "stdout",
     "output_type": "stream",
     "text": [
      "to see the sunset\n",
      "lets have a vibe\n"
     ]
    }
   ],
   "source": [
    "# oops concept (object orianted programming system)\n",
    "# object- all real world entities\n",
    "# class-collection of objects\n",
    "\n",
    "# goa trip\n",
    "# whos going\n",
    "# how much money we need\n",
    "# what about the food\n",
    "# were we need to stay\n",
    "# who will book the tickets\n",
    "\n",
    "\n",
    "class GoaTrip():\n",
    "    def beach(self):    #self - is a parameter we can give any parameter\n",
    "        print(\"to see the sunset\")\n",
    "    def party(abc):\n",
    "        print(\"lets have a vibe\")\n",
    "raju=GoaTrip()\n",
    "kevin=GoaTrip()\n",
    "raju.beach()\n",
    "kevin.party()\n"
   ]
  },
  {
   "cell_type": "code",
   "execution_count": 15,
   "id": "fec11752",
   "metadata": {},
   "outputs": [
    {
     "name": "stdout",
     "output_type": "stream",
     "text": [
      "kevinfood item added to cart\n",
      "kevinpayment successfull by gpay\n",
      "kevinfood item added to cart\n",
      "kevinpayment successfull by gpay\n"
     ]
    }
   ],
   "source": [
    "# food delivery\n",
    "# select food item\n",
    "# payment method\n",
    "# who want to order\n",
    "\n",
    "class food_delivery():\n",
    "    name=\"kevin\"\n",
    "    def select_food_item(abc):\n",
    "        print(f\"{abc.name}food item added to cart\")\n",
    "    def payment(abc):\n",
    "        print(f\"{abc.name}payment successfull by gpay\")\n",
    "godson=food_delivery()\n",
    "abhi=food_delivery()\n",
    "godson.select_food_item()\n",
    "godson.payment()\n",
    "abhi.select_food_item()\n",
    "abhi.payment()\n"
   ]
  },
  {
   "cell_type": "code",
   "execution_count": null,
   "id": "badd6557",
   "metadata": {},
   "outputs": [
    {
     "name": "stdout",
     "output_type": "stream",
     "text": [
      "raju to see the sunset and the budget is 50000\n",
      "kevin lets have a vibe and the budget is 3000000\n"
     ]
    }
   ],
   "source": [
    "#  another method\n",
    "# init method\n",
    "\n",
    "\n",
    "class GoaTrip():\n",
    "    def __init__(self,name,budget):\n",
    "        self.name=name\n",
    "        self.budget=budget\n",
    "    def beach(self):    #self - is a parameter we can give any parameter\n",
    "        print(f\"{self.name} to see the sunset and the budget is {self.budget}\")\n",
    "    def party(self):\n",
    "        print(f\"{self.name} lets have a vibe and the budget is {self.budget}\")\n",
    "raju=GoaTrip(\"raju\",50000)\n",
    "kevin=GoaTrip(\"kevin\",3000000)\n",
    "raju.beach()\n",
    "kevin.party()\n"
   ]
  },
  {
   "cell_type": "code",
   "execution_count": 16,
   "id": "6758a992",
   "metadata": {},
   "outputs": [
    {
     "name": "stdout",
     "output_type": "stream",
     "text": [
      "the deposite amount is 50000 \n",
      "the remaining amount 60000\n",
      "the balance is 110000\n"
     ]
    }
   ],
   "source": [
    "# bank account\n",
    "# balance amount\n",
    "# withdrawal amount\n",
    "# deposite amount\n",
    "\n",
    "\n",
    "# amount \n",
    "# if you kept the amount it show what ever the balance amount\n",
    "\n",
    "\n",
    "class bank():\n",
    "    def __init__(self,deposite,balance,withdrawal):\n",
    "        self.withdrawal=withdrawal\n",
    "        self.balance=balance\n",
    "        self.deposite=deposite\n",
    "\n",
    "    def deposite_amount(self):\n",
    "        print(f\"the deposite amount is {self.deposite} \")\n",
    "    \n",
    "    def balance_amount(self):\n",
    "        self.balance+=self.deposite\n",
    "        print(f\"the balance is {self.balance}\")\n",
    "\n",
    "    def withdrawal_amount(self):\n",
    "        if(self.withdrawal>self.balance):\n",
    "           print(f\"insufficiant bank balance\")\n",
    "        else:\n",
    "            self.balance-=self.withdrawal\n",
    "            print(f\"the remaining amount {self.balance}\")\n",
    "kiran= bank(50000,100000,40000)\n",
    "\n",
    "kiran.deposite_amount()\n",
    "kiran.withdrawal_amount()\n",
    "kiran.balance_amount()\n",
    "\n",
    "\n",
    "\n"
   ]
  },
  {
   "cell_type": "code",
   "execution_count": null,
   "id": "e4c27a65",
   "metadata": {},
   "outputs": [
    {
     "data": {
      "text/plain": [
       "112"
      ]
     },
     "execution_count": 18,
     "metadata": {},
     "output_type": "execute_result"
    }
   ],
   "source": [
    "class rectangle():\n",
    "    def __init__(self,height,width):\n",
    "        self.height=height\n",
    "        self.width=width\n",
    "    def area(self):\n",
    "        return self.height*self.width\n",
    "    def perimeter(self):\n",
    "        return 2*(self.height)+2*(self.width)\n",
    "r1=rectangle(56,89)\n",
    "r1.area()\n",
    "r1.perimeter()"
   ]
  },
  {
   "cell_type": "code",
   "execution_count": null,
   "id": "285033eb",
   "metadata": {},
   "outputs": [],
   "source": []
  }
 ],
 "metadata": {
  "kernelspec": {
   "display_name": "Python 3",
   "language": "python",
   "name": "python3"
  },
  "language_info": {
   "codemirror_mode": {
    "name": "ipython",
    "version": 3
   },
   "file_extension": ".py",
   "mimetype": "text/x-python",
   "name": "python",
   "nbconvert_exporter": "python",
   "pygments_lexer": "ipython3",
   "version": "3.12.5"
  }
 },
 "nbformat": 4,
 "nbformat_minor": 5
}
