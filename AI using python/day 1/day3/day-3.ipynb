{
 "cells": [
  {
   "cell_type": "code",
   "execution_count": null,
   "id": "9b7404b7",
   "metadata": {},
   "outputs": [
    {
     "name": "stdout",
     "output_type": "stream",
     "text": [
      "['FALSE', 'TRUE', 4.9, 23, 25, 'vichu', 'chachu']\n"
     ]
    }
   ],
   "source": [
    "list1 = [\"chachu\",\"vichu\",25,23,4.90,\"TRUE\",\"FALSE\"]\n",
    "print(list1[::-1]) #[start:stop:step]"
   ]
  },
  {
   "cell_type": "code",
   "execution_count": 72,
   "id": "47d1f776",
   "metadata": {},
   "outputs": [
    {
     "name": "stdout",
     "output_type": "stream",
     "text": [
      "[1, 3, 4, 5]\n"
     ]
    }
   ],
   "source": [
    "my_list = [3, 1, 4]\n",
    "\n",
    "my_list.append(5)       # [3, 1, 4, 5]\n",
    "my_list.insert(1, 9)    # [3, 9, 1, 4, 5]\n",
    "my_list.sort()          # [1, 3, 4, 5, 9]\n",
    "my_list.pop()           # Removes 9\n",
    "print(my_list)          # [1, 3, 4, 5]\n"
   ]
  },
  {
   "cell_type": "code",
   "execution_count": 15,
   "id": "47f7d7e2",
   "metadata": {},
   "outputs": [
    {
     "name": "stdout",
     "output_type": "stream",
     "text": [
      "[1, 2, 3, 'akshaya', 'meera', 'chachu', 9, 'vichu', 25, 23, 4.9, 'TRUE', 'FALSE']\n"
     ]
    }
   ],
   "source": [
    "list1 = [\"chachu\",\"vichu\",25,23,4.90,\"TRUE\",\"FALSE\"]\n",
    "\n",
    "list1.append(5)\n",
    "list1.insert(1, 9)   \n",
    "list1.pop()    \n",
    "\n",
    "list2 = [1,2,3,\"akshaya\",\"meera\"]\n",
    "\n",
    "list2.extend(list1)\n",
    "\n",
    "\n",
    "\n",
    "print(list2)"
   ]
  },
  {
   "cell_type": "code",
   "execution_count": null,
   "id": "02328eba",
   "metadata": {},
   "outputs": [],
   "source": [
    "list1 = [\"sanju\",\"manju\",\"arjun\",\"ruku\",\"sandru\"]\n",
    "\n",
    "list1.upper()\n",
    "\n",
    "list2 = [\"abc\"]\n"
   ]
  },
  {
   "cell_type": "code",
   "execution_count": 91,
   "id": "3f20609b",
   "metadata": {},
   "outputs": [
    {
     "name": "stdout",
     "output_type": "stream",
     "text": [
      "list1:  ['meera', 'isha', 'akshaya', 'najma']\n"
     ]
    }
   ],
   "source": [
    "n = int(input(\"how many elements? \"))\n",
    "list1 = []\n",
    "\n",
    "for i in range(n):\n",
    "    item = input(f\"enter elements: {i+1}\")\n",
    "    list1.append(item)\n",
    "\n",
    "print(\"list1: \", list1)"
   ]
  },
  {
   "cell_type": "code",
   "execution_count": 93,
   "id": "c01e1bad",
   "metadata": {},
   "outputs": [
    {
     "name": "stdout",
     "output_type": "stream",
     "text": [
      "('meena', 23, 65.9, 'kallu')\n"
     ]
    }
   ],
   "source": [
    "tuple1 = ('meera','meena',23,65.9,'kallu')\n",
    "\n",
    "print(tuple1[1:5:])"
   ]
  },
  {
   "cell_type": "code",
   "execution_count": null,
   "id": "8bec4fc6",
   "metadata": {},
   "outputs": [
    {
     "data": {
      "text/plain": [
       "8"
      ]
     },
     "execution_count": 2,
     "metadata": {},
     "output_type": "execute_result"
    }
   ],
   "source": [
    "#Find the unique  values\n",
    "\n",
    "def unique_items(text):\n",
    "    words = text.lower().split()\n",
    "    unique = set(words)\n",
    "    return len(unique)\n",
    "unique_items(\"Rashin is a good boy But sometime rashin is bad boy\")\n",
    "\n"
   ]
  },
  {
   "cell_type": "code",
   "execution_count": null,
   "id": "f727bd60",
   "metadata": {},
   "outputs": [
    {
     "name": "stdout",
     "output_type": "stream",
     "text": [
      "[1, 2, 3, 5, 8, 9]\n"
     ]
    }
   ],
   "source": [
    "#remove duplicates from a list\n",
    "\n",
    "def remove_duplicates(nums):\n",
    "    result = []\n",
    "    for i in nums:\n",
    "        if i not in result:\n",
    "            result.append(i)\n",
    "    return result\n",
    "list1 = [1,2,3,3,4,5]\n",
    "print(remove_duplicates(list1))\n",
    "    \n"
   ]
  },
  {
   "cell_type": "code",
   "execution_count": 32,
   "id": "c702bda4",
   "metadata": {},
   "outputs": [
    {
     "name": "stdout",
     "output_type": "stream",
     "text": [
      "2\n"
     ]
    }
   ],
   "source": [
    "l1 = [25,10,\"abhi\",\"abhi\",72.0]\n",
    "\n",
    "print(l1.count(\"abhi\"))\n"
   ]
  }
 ],
 "metadata": {
  "kernelspec": {
   "display_name": "Python 3",
   "language": "python",
   "name": "python3"
  },
  "language_info": {
   "codemirror_mode": {
    "name": "ipython",
    "version": 3
   },
   "file_extension": ".py",
   "mimetype": "text/x-python",
   "name": "python",
   "nbconvert_exporter": "python",
   "pygments_lexer": "ipython3",
   "version": "3.11.9"
  }
 },
 "nbformat": 4,
 "nbformat_minor": 5
}
