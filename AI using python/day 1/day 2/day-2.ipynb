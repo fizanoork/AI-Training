{
 "cells": [
  {
   "cell_type": "code",
   "execution_count": 1,
   "id": "67b7a36d",
   "metadata": {},
   "outputs": [
    {
     "name": "stdout",
     "output_type": "stream",
     "text": [
      "Login successful\n",
      "Current balance:4000\n",
      "Withdrawal successful\n",
      "Remaining balance:1\n"
     ]
    }
   ],
   "source": [
    "username = \"meera\"\n",
    "pin = \"123\"\n",
    "balance = 4000\n",
    "\n",
    "attempts = 3\n",
    "\n",
    "while attempts > 0:\n",
    "    username1 = input(\"Enter username: \")\n",
    "    pin1 = input(\"Enter PIN: \")\n",
    "\n",
    "    if username == username1 and pin == pin1:\n",
    "        print(\"Login successful\")\n",
    "        print(f\"Current balance:{balance:}\")\n",
    "        \n",
    "        withdraw_input = input(\"Enter amount to withdraw: \")\n",
    "\n",
    "        if withdraw_input.isdigit():\n",
    "            withdraw_amount = int(withdraw_input)\n",
    "\n",
    "            if withdraw_amount <= 0:\n",
    "                print(\"Please enter a valid amount greater than 0.\")\n",
    "            elif withdraw_amount <= balance:\n",
    "                balance -= withdraw_amount\n",
    "                print(\"Withdrawal successful\")\n",
    "                print(f\"Remaining balance:{balance:}\")\n",
    "            else:\n",
    "                print(\"Insufficient balance\")\n",
    "        else:\n",
    "            print(\"Invalid input\")\n",
    "            print(f\"Please enter a numeric value.\")\n",
    "        break\n",
    "    else:\n",
    "        attempts -= 1\n",
    "        print(f\"Incorrect credentials. {attempts} attempt(s) left.\")\n",
    "\n",
    "if attempts == 0:\n",
    "    print(\"Too many failed attempts. Access locked.\")\n"
   ]
  },
  {
   "cell_type": "code",
   "execution_count": null,
   "id": "16536ff6",
   "metadata": {},
   "outputs": [],
   "source": [
    "x = \"global\"\n",
    "def outer():\n",
    "    x = \"enclosing\"\n",
    "    def inner():\n",
    "        x = \"local\"\n",
    "        print(x)\n",
    "    inner()\n",
    "outer()"
   ]
  },
  {
   "cell_type": "code",
   "execution_count": null,
   "id": "6f87c3b9",
   "metadata": {},
   "outputs": [],
   "source": [
    "while True :\n",
    "  feedback = input(\"enter the feedback: \")\n",
    "  if(feedback == \"stop\"):\n",
    "    print(\"thank you for your feedback\")\n",
    "    break"
   ]
  },
  {
   "cell_type": "code",
   "execution_count": null,
   "id": "b8e37bf3",
   "metadata": {},
   "outputs": [],
   "source": [
    "def primenumber(n):\n",
    "  if(n<=1):\n",
    "    return False\n",
    "  for i in range(2,n):\n",
    "    if(n%i == 0):\n",
    "       return False\n",
    "  return True\n",
    "for i in range(1,20):\n",
    " if primenumber(i):\n",
    "        print(i)"
   ]
  },
  {
   "cell_type": "code",
   "execution_count": null,
   "id": "e125e4d2",
   "metadata": {},
   "outputs": [],
   "source": [
    "def factorial(n):\n",
    "    result = 1\n",
    "    for i in range(1, n+1):\n",
    "        result*=i\n",
    "    return result\n",
    "factorial(6)"
   ]
  },
  {
   "cell_type": "code",
   "execution_count": null,
   "id": "303e6f10",
   "metadata": {},
   "outputs": [],
   "source": [
    "def palindrome(s):\n",
    "   \n",
    "   s.lower()\n",
    "   if(s == s[::-1]):\n",
    "     print(\"it is palindrome\")\n",
    "   else:\n",
    "     print(\"it is not a palindram\")\n",
    "palindrome(\"madam\")\n"
   ]
  },
  {
   "cell_type": "code",
   "execution_count": null,
   "id": "bb2a94a4",
   "metadata": {},
   "outputs": [],
   "source": [
    "def my_func(child1,child2):\n",
    "    print(f\"the child name is {child1},{child2}\")\n",
    "my_func(child1=\"meera\",child2=\"akshay\")"
   ]
  }
 ],
 "metadata": {
  "kernelspec": {
   "display_name": "Python 3",
   "language": "python",
   "name": "python3"
  },
  "language_info": {
   "codemirror_mode": {
    "name": "ipython",
    "version": 3
   },
   "file_extension": ".py",
   "mimetype": "text/x-python",
   "name": "python",
   "nbconvert_exporter": "python",
   "pygments_lexer": "ipython3",
   "version": "3.11.9"
  }
 },
 "nbformat": 4,
 "nbformat_minor": 5
}
