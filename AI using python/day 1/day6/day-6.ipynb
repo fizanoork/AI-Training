{
 "cells": [
  {
   "cell_type": "code",
   "execution_count": null,
   "id": "5b1303be",
   "metadata": {},
   "outputs": [],
   "source": [
    "\n",
    "\n",
    "# DAY -06\n",
    "\n",
    "\n",
    "#  file concept in python\n",
    "\n",
    "#(____.txt) - format\n",
    "\n",
    "#r-read mode\n",
    "\n",
    "\n",
    "file1=open(r\"C:\\Users\\hp\\Downloads\\File handle\\Demo1.txt\")\n",
    "#Absolute path-entire path (option-copy path)\n",
    "#Relative path - particular file name (option - copy relative psth)\n",
    "\n",
    "# Files are named locations of disk to store relevant information\n",
    "# operations - open(),read(),write(),append()\n",
    "\n",
    "# 1- open the file location\n",
    "# 2-read/write operation\n",
    "# 3-close the file\n",
    "\n",
    "\n",
    "# the file can be a text file,binary file,csv file (coma seprate value)\n",
    "\n",
    "\n",
    "# working of open() function\n",
    "\n",
    "# syntax-    file=open(\"filepath\",\"mode\")\n",
    "\n",
    "# 1.r.read the file\n",
    "# 2.w.write the content to the file (existing data will erase and add the new data)\n",
    "# 3.a.append the content to the file(the existing data will not erase it add to end (didn't override))\n",
    "# 4.r+.to read and write the content\n",
    "# 5.w+.to write and read the content(it will override the existing content)\n",
    "# 6.a+.to append and read the content (it willnot override the content)\n"
   ]
  },
  {
   "cell_type": "code",
   "execution_count": null,
   "id": "a17325fb",
   "metadata": {},
   "outputs": [],
   "source": [
    "# write ()-write(sigle line),writelines(more than two lines)\n",
    "\n",
    "\n",
    "file=open(\"Demo1.txt\",\"w\")\n",
    "cont=[\"this is india\\n\",\"I am indian only\\n\",\"we are in AI class\"]\n",
    "data=file.writelines(cont) \n",
    "print(data)\n",
    "\n",
    "print(\"---------------------------------------------------------------------------------------------------------\")\n",
    "\n",
    "file=open(\"Demo1.txt\",\"w\")\n",
    "cont=\"this is india\\n\"\n",
    "data=file.write(cont) \n",
    "print(data)\n",
    "\n",
    "\n",
    "# it added to the file but all existing file was erased"
   ]
  },
  {
   "cell_type": "code",
   "execution_count": null,
   "id": "f1ca58e2",
   "metadata": {},
   "outputs": [],
   "source": [
    "# append()\n",
    "\n",
    "\n",
    "file=open(\"Demo1.txt\",\"a\")\n",
    "file.write(\"this is china\\n\")\n",
    "file.write(\"we are in AI class\\n\")\n",
    "file=open(\"Demo1.txt\",\"r\")\n",
    "# write is used for append\n",
    "print(file.read())\n",
    "# print no of time you want there is no limit\n",
    "print(\"---------------------------------------------------------------------------------------------------------\")\n"
   ]
  },
  {
   "cell_type": "code",
   "execution_count": null,
   "id": "9978c9fd",
   "metadata": {},
   "outputs": [],
   "source": [
    "#read and write r+\n",
    "\n",
    "file=open(\"Demo1.txt\",\"r+\")\n",
    "cont=file.read()\n",
    "print(cont)\n",
    "file.write(\"you are great\\n\")\n",
    "\n",
    "file=open(\"Demo1.txt\",\"r+\")\n",
    "cont=file.read()\n",
    "print(cont)\n"
   ]
  },
  {
   "cell_type": "code",
   "execution_count": null,
   "id": "57705334",
   "metadata": {},
   "outputs": [],
   "source": [
    "#write and read w+\n",
    "\n",
    "file=open(\"Demo1.txt\",\"w+\")\n",
    "file.write(\"you guys are very smart\")\n",
    "print(file.read()) #added to the file"
   ]
  },
  {
   "cell_type": "code",
   "execution_count": null,
   "id": "f89a3b10",
   "metadata": {},
   "outputs": [],
   "source": [
    "# append and read a+ \n",
    "\n",
    "\n",
    "file=open(\"Demo1.txt\",\"a+\")\n",
    "file.write(\"you are very good\\n\")\n",
    "file.write(\"you are nice\\n\")\n",
    "print(file.read())"
   ]
  },
  {
   "cell_type": "code",
   "execution_count": null,
   "id": "ede7efd0",
   "metadata": {},
   "outputs": [],
   "source": [
    "# csv file handling\n",
    "\n",
    "# structured - Tabular data\n",
    "# unstructured - \n",
    "\n",
    "import pandas as pd # it for cleaning unwanted or irregular datas and all the operations like inserting modifying ect.... all are done by pandas)\n"
   ]
  },
  {
   "cell_type": "code",
   "execution_count": null,
   "id": "99573229",
   "metadata": {},
   "outputs": [],
   "source": [
    "pip install openpyxl # installing openpyxl"
   ]
  },
  {
   "cell_type": "code",
   "execution_count": null,
   "id": "cbadeafe",
   "metadata": {},
   "outputs": [],
   "source": [
    "\n",
    "# excel format (for xlsx format)\n",
    "data = pd.read_excel(\"Book1.xlsx\")\n",
    "print(data)"
   ]
  },
  {
   "cell_type": "code",
   "execution_count": null,
   "id": "0948af7e",
   "metadata": {},
   "outputs": [],
   "source": [
    "pip install pandas  #installing pandas\n",
    "\n",
    "# in panda or any package we done want to use print just give the variable name "
   ]
  },
  {
   "cell_type": "code",
   "execution_count": null,
   "id": "71a86ee3",
   "metadata": {},
   "outputs": [],
   "source": [
    "# excel format for csv file \n",
    "import panda as pd\n",
    "data = pd.read_csv(\"Book1.csv\")\n",
    "print(data)"
   ]
  },
  {
   "cell_type": "code",
   "execution_count": null,
   "id": "0d3af916",
   "metadata": {},
   "outputs": [],
   "source": [
    "# read a file and return longest sequence\n",
    "\n",
    "# with -no need to use close function\n",
    "# import re  re-regular expresion(',/?;><.= ect..  a-z,A-Z)\n",
    "\n",
    "#strip()- it is used to remove unwanted extra spaces,typos ect....\n",
    "def ls(filepath):\n",
    "    with open(filepath,\"r\") as file:\n",
    "        text=file.read()\n",
    "        sentence=text.split(\".\")\n",
    "        max_sentence=max(sentence,key=len)\n",
    "        return max_sentence.strip()\n",
    "print(ls(\"Demo1.txt\"))\n"
   ]
  },
  {
   "cell_type": "code",
   "execution_count": null,
   "id": "34ef8d0e",
   "metadata": {},
   "outputs": [],
   "source": [
    "\n",
    "import re\n",
    "def ls(filepath):\n",
    "    with open(filepath,\"r\") as file:\n",
    "        text=file.read()\n",
    "        sentence=text.split(r\".>/?,!\",text)\n",
    "        sentences=[i.strip() for i in sentence if(i.strip())]\n",
    "        max_sentence=max(sentences,key=len)\n",
    "        return max_sentence\n",
    "print(ls(\"Demo1.txt\"))\n",
    "\n",
    "\n",
    "\n",
    "# for i in sentence:\n",
    "    # if(i.strip())\n",
    "    #     i.strip()"
   ]
  }
 ],
 "metadata": {
  "kernelspec": {
   "display_name": "Python 3",
   "language": "python",
   "name": "python3"
  },
  "language_info": {
   "name": "python",
   "version": "3.11.9"
  }
 },
 "nbformat": 4,
 "nbformat_minor": 5
}
