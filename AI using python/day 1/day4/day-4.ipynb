{
 "cells": [
  {
   "cell_type": "code",
   "execution_count": 2,
   "id": "69789663",
   "metadata": {},
   "outputs": [
    {
     "name": "stdout",
     "output_type": "stream",
     "text": [
      "{'name': 'tamil', 'dept': 'ai&ds'}\n"
     ]
    }
   ],
   "source": [
    "#Dictionary- {}\n",
    "\n",
    "dict1 = {\"name\":\"tamil\",\"dept\":\"ai&ds\"}\n",
    "print(dict1)\n",
    "\n",
    "#->update\n",
    "#->keys\n",
    "#->values\n",
    "#->items\n",
    "\n",
    " "
   ]
  },
  {
   "cell_type": "code",
   "execution_count": null,
   "id": "58dd94f1",
   "metadata": {},
   "outputs": [
    {
     "name": "stdout",
     "output_type": "stream",
     "text": [
      "{'name': 'nandu', 'age': '18', 'dept': 'ai&ds'}\n",
      "{'name': 'nandu', 'age': '18', 'dept': 'ai&ds'}\n"
     ]
    }
   ],
   "source": [
    "dict1 = {\"name\":\"nandu\",\"age\":\"18\",\"dept\":\"ai&ds\"}\n",
    "print(dict1)\n",
    "\n",
    "dict2 = {} #empty dictionary\n",
    "\n",
    "#use of \"dict\" keyword\n",
    "\n",
    "dict3 = dict(name=\"nandu\",age=\"18\",dept=\"ai&ds\")\n",
    "print(dict3)"
   ]
  },
  {
   "cell_type": "code",
   "execution_count": 8,
   "id": "33b2706b",
   "metadata": {},
   "outputs": [
    {
     "name": "stdout",
     "output_type": "stream",
     "text": [
      "{'a': 1, 'b': 2}\n"
     ]
    }
   ],
   "source": [
    "#from a list of tuples\n",
    "dict4 = dict([(\"a\",1),(\"b\",2)])\n",
    "print(dict4)"
   ]
  },
  {
   "cell_type": "code",
   "execution_count": 19,
   "id": "fd425d86",
   "metadata": {},
   "outputs": [
    {
     "name": "stdout",
     "output_type": "stream",
     "text": [
      "kerala\n",
      "185\n"
     ]
    }
   ],
   "source": [
    "#important dictionary methods\n",
    "#get,setdefault,update,items,keys,values\n",
    "# 1. get method\n",
    "\n",
    "dict1 = {\"name\":\"nandu\",\"age\":18,\"dept\":\"ai&ds\"}\n",
    "print(dict1.get(\"place\",\"kerala\"))\n",
    "print(dict1.get(\"height\",\"185\"))#it is for get method "
   ]
  },
  {
   "cell_type": "code",
   "execution_count": 15,
   "id": "2e0e7f6a",
   "metadata": {},
   "outputs": [
    {
     "name": "stdout",
     "output_type": "stream",
     "text": [
      "{'name': 'nandu', 'age': '18', 'dept': 'ai&ds', 'email': 'nandu223@gmail.com'}\n"
     ]
    }
   ],
   "source": [
    "# 2. setdefault method\n",
    "\n",
    "Dict1 = {\"name\":\"nandu\",\"age\":\"18\",\"dept\":\"ai&ds\"}\n",
    "Dict1.setdefault(\"email\",\"nandu223@gmail.com\")\n",
    "print(Dict1)#once u use setdefault method, set the \n",
    "#when you print that all items are visible"
   ]
  },
  {
   "cell_type": "code",
   "execution_count": null,
   "id": "033b3878",
   "metadata": {},
   "outputs": [
    {
     "name": "stdout",
     "output_type": "stream",
     "text": [
      "{'name': 'nandu', 'age': '18', 'dept': 'ai&ds', 'place': 'kerala'}\n",
      "{'name': 'abhinand', 'age': '18', 'dept': 'ai&ds', 'place': 'kerala'}\n"
     ]
    }
   ],
   "source": [
    "#3. update method\n",
    "\n",
    "# to update the dict\n",
    "Dict1 = {\"name\":\"nandu\",\"age\":\"18\",\"dept\":\"ai&ds\"}\n",
    "Dict1.update({\"place\":\"kerala\"})\n",
    "print(Dict1)\n",
    "\n",
    "# to update the values\n",
    "Dict1[\"name\"] = \"abhinand\"\n",
    "print(Dict1)"
   ]
  },
  {
   "cell_type": "code",
   "execution_count": 21,
   "id": "520ab1e5",
   "metadata": {},
   "outputs": [
    {
     "name": "stdout",
     "output_type": "stream",
     "text": [
      "dict_keys(['name', 'age', 'dept'])\n",
      "dict_values(['nandu', '18', 'ai&ds'])\n",
      "dict_items([('name', 'nandu'), ('age', '18'), ('dept', 'ai&ds')])\n"
     ]
    }
   ],
   "source": [
    "Dict1 = {\"name\":\"nandu\",\"age\":\"18\",\"dept\":\"ai&ds\"}\n",
    "print(Dict1.keys())\n",
    "print(Dict1.values())\n",
    "print(Dict1.items())"
   ]
  },
  {
   "cell_type": "code",
   "execution_count": 2,
   "id": "6f2a281b",
   "metadata": {},
   "outputs": [
    {
     "name": "stdout",
     "output_type": "stream",
     "text": [
      "{'name': 'nandu', 'age': '18'}\n"
     ]
    }
   ],
   "source": [
    "#delete method - del, pop\n",
    "Dict1 = {\"name\":\"nandu\",\"age\":\"18\",\"dept\":\"ai&ds\"}\n",
    "del Dict1[\"dept\"]\n",
    "print(Dict1)"
   ]
  },
  {
   "cell_type": "code",
   "execution_count": 33,
   "id": "ebd9470d",
   "metadata": {},
   "outputs": [
    {
     "data": {
      "text/plain": [
       "'none'"
      ]
     },
     "execution_count": 33,
     "metadata": {},
     "output_type": "execute_result"
    }
   ],
   "source": [
    "#pop method\n",
    "Dict1 = {\"name\":\"nandu\",\"age\":\"18\",\"dept\":\"ai&ds\"}\n",
    "Dict1.pop(\"height\",\"none\")\n"
   ]
  },
  {
   "cell_type": "code",
   "execution_count": 12,
   "id": "e2695cc9",
   "metadata": {},
   "outputs": [
    {
     "name": "stdout",
     "output_type": "stream",
     "text": [
      "{'banana': 2, 'apple': 2, 'kiwi': 1}\n"
     ]
    }
   ],
   "source": [
    "#frquency dictionary from text\n",
    "\n",
    "text = \"banana apple banana apple kiwi\" \n",
    "dict1 = {}\n",
    "\n",
    "for i in text.split():\n",
    "    dict1[i] = dict1.get(i,0)+1\n",
    "print(dict1)    "
   ]
  },
  {
   "cell_type": "code",
   "execution_count": null,
   "id": "7013a255",
   "metadata": {},
   "outputs": [
    {
     "name": "stdout",
     "output_type": "stream",
     "text": [
      "nandu\n"
     ]
    }
   ],
   "source": [
    "#multi level \n",
    "\n",
    "dict1 = {\n",
    "    \"class\":{\n",
    "        \"A\":{\"name\":\"nandu\",\"age\":18},\n",
    "        \"B\":{\"name\":\"razi\",\"age\":18}\n",
    "    }\n",
    "}\n",
    "\n",
    "print(dict1[\"class\"][\"A\"][\"name\"])"
   ]
  },
  {
   "cell_type": "code",
   "execution_count": null,
   "id": "ec2f6027",
   "metadata": {},
   "outputs": [
    {
     "name": "stdout",
     "output_type": "stream",
     "text": [
      "unknown\n"
     ]
    }
   ],
   "source": [
    "#\n",
    "\n",
    "user = {\n",
    "    101:\"aaa\",\n",
    "    102:\"aab\",\n",
    "    103:\"aac\"\n",
    "}\n",
    "\n",
    "def my_func(user, userid):\n",
    "    return user.get(userid,\"unknown\")\n",
    "print(my_func(user,104))"
   ]
  }
 ],
 "metadata": {
  "kernelspec": {
   "display_name": "Python 3",
   "language": "python",
   "name": "python3"
  },
  "language_info": {
   "codemirror_mode": {
    "name": "ipython",
    "version": 3
   },
   "file_extension": ".py",
   "mimetype": "text/x-python",
   "name": "python",
   "nbconvert_exporter": "python",
   "pygments_lexer": "ipython3",
   "version": "3.11.9"
  }
 },
 "nbformat": 4,
 "nbformat_minor": 5
}
