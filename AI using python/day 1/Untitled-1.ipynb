{
 "cells": [
  {
   "cell_type": "code",
   "execution_count": 2,
   "id": "2e8f087c",
   "metadata": {},
   "outputs": [
    {
     "name": "stdout",
     "output_type": "stream",
     "text": [
      "17\n"
     ]
    }
   ],
   "source": [
    "a=int(17.00)\n",
    "print(a)"
   ]
  },
  {
   "cell_type": "code",
   "execution_count": null,
   "id": "138ba1a9",
   "metadata": {},
   "outputs": [
    {
     "name": "stdout",
     "output_type": "stream",
     "text": [
      "not available\n"
     ]
    }
   ],
   "source": [
    "My_Cart = [\"shirt\",\"shoe\",\"pant\",\"fruits\",\"ice cream\"]\n",
    "if \"vegetable\" in My_Cart:\n",
    "    print(\"available\")\n",
    "else:\n",
    "    print(\"not available\")\n",
    "\n"
   ]
  },
  {
   "cell_type": "code",
   "execution_count": 2,
   "id": "04217e01",
   "metadata": {},
   "outputs": [
    {
     "name": "stdout",
     "output_type": "stream",
     "text": [
      "300\n"
     ]
    }
   ],
   "source": [
    "a=input()\n",
    "print(a)"
   ]
  },
  {
   "cell_type": "code",
   "execution_count": 7,
   "id": "45d827e3",
   "metadata": {},
   "outputs": [
    {
     "ename": "NameError",
     "evalue": "name 'i' is not defined",
     "output_type": "error",
     "traceback": [
      "\u001b[31m---------------------------------------------------------------------------\u001b[39m",
      "\u001b[31mNameError\u001b[39m                                 Traceback (most recent call last)",
      "\u001b[36mCell\u001b[39m\u001b[36m \u001b[39m\u001b[32mIn[7]\u001b[39m\u001b[32m, line 1\u001b[39m\n\u001b[32m----> \u001b[39m\u001b[32m1\u001b[39m \u001b[38;5;28;01mwhile\u001b[39;00m \u001b[43mi\u001b[49m \u001b[38;5;129;01min\u001b[39;00m \u001b[38;5;28mrange\u001b[39m(\u001b[32m5\u001b[39m):\n\u001b[32m      2\u001b[39m     \u001b[38;5;28mprint\u001b[39m (\u001b[33m\"\u001b[39m\u001b[33mi am learning\u001b[39m\u001b[33m\"\u001b[39m)\n",
      "\u001b[31mNameError\u001b[39m: name 'i' is not defined"
     ]
    }
   ],
   "source": [
    "while i in range(5):\n",
    "    print (\"i am learning\")"
   ]
  },
  {
   "cell_type": "code",
   "execution_count": null,
   "id": "84eaaff8",
   "metadata": {},
   "outputs": [],
   "source": [
    "list1=(1,2,3,4)"
   ]
  },
  {
   "cell_type": "code",
   "execution_count": 3,
   "id": "f61b0e77",
   "metadata": {},
   "outputs": [
    {
     "ename": "IndentationError",
     "evalue": "expected an indented block after 'while' statement on line 6 (317378934.py, line 8)",
     "output_type": "error",
     "traceback": [
      "  \u001b[36mCell\u001b[39m\u001b[36m \u001b[39m\u001b[32mIn[3]\u001b[39m\u001b[32m, line 8\u001b[39m\n\u001b[31m    \u001b[39m\u001b[31muser_name = input(\"enter your username: \")\u001b[39m\n    ^\n\u001b[31mIndentationError\u001b[39m\u001b[31m:\u001b[39m expected an indented block after 'while' statement on line 6\n"
     ]
    }
   ],
   "source": [
    "std_username = \"meera\"\n",
    "std_password = \"meera234\"\n",
    "\n",
    "attempts = 0\n",
    "\n",
    "while attempts < 3:\n",
    "\n",
    "user_name = input(\"enter your username: \")\n",
    "password = input(\"enter your password: \")\n",
    "\n",
    "if (user_name == )\n"
   ]
  },
  {
   "cell_type": "code",
   "execution_count": 2,
   "id": "9c4b9be7",
   "metadata": {},
   "outputs": [
    {
     "name": "stdout",
     "output_type": "stream",
     "text": [
      "login sucessfully\n"
     ]
    }
   ],
   "source": [
    "username = \"meera\"\n",
    "password = \"2345\"\n",
    "\n",
    "attempts = 3\n",
    "\n",
    "while attempts > 0:\n",
    "\n",
    "  username1 = input()\n",
    "  password1 = input()\n",
    "  if(username == username1 and password == password1):\n",
    "    print(\"login sucessfully\")\n",
    "    break\n",
    "  else:\n",
    "    attempts -= 1\n",
    "    print(f\"only {attempts} attempts there\")\n",
    "if(attempts == 0):\n",
    "  print(\"tried too many attempts\") \n"
   ]
  },
  {
   "cell_type": "code",
   "execution_count": 4,
   "id": "39f702c3",
   "metadata": {},
   "outputs": [
    {
     "name": "stdout",
     "output_type": "stream",
     "text": [
      "Login successful\n",
      "Current balance:4,000\n",
      "Withdrawal successful\n",
      "Remaining balance:1\n"
     ]
    }
   ],
   "source": [
    "username = \"meera\"\n",
    "pin = \"123\"\n",
    "balance = 4000\n",
    "\n",
    "attempts = 3\n",
    "\n",
    "while attempts > 0:\n",
    "    username1 = input(\"Enter username: \")\n",
    "    pin1 = input(\"Enter PIN: \")\n",
    "\n",
    "    if username == username1 and pin == pin1:\n",
    "        print(\"Login successful\") \n",
    "        print(f\"Current balance:{balance:,}\")\n",
    "        \n",
    "        withdraw_input = input(\"Enter amount to withdraw: \")\n",
    "\n",
    "        if withdraw_input.isdigit():\n",
    "            withdraw_amount = int(withdraw_input)\n",
    "\n",
    "            if withdraw_amount <= 0:\n",
    "                print(\"Please enter a valid amount greater than 0.\")\n",
    "            elif withdraw_amount <= balance:\n",
    "                balance -= withdraw_amount\n",
    "                print(\"Withdrawal successful\") \n",
    "                print(f\"Remaining balance:{balance:,}\")\n",
    "            else:\n",
    "                print(\"Insufficient balance.\")\n",
    "        else:\n",
    "            print(\"Invalid input. Please enter a numeric value.\")\n",
    "        break\n",
    "    else:\n",
    "        attempts -= 1\n",
    "        print(f\"Incorrect credentials. {attempts} attempt(s) left.\")\n",
    "\n",
    "if attempts == 0:\n",
    "    print(\"Too many failed attempts. Access locked.\")"
   ]
  },
  {
   "cell_type": "code",
   "execution_count": 3,
   "id": "67dc02a8",
   "metadata": {},
   "outputs": [
    {
     "name": "stdout",
     "output_type": "stream",
     "text": [
      "thank you for your feedback\n"
     ]
    }
   ],
   "source": [
    "\n",
    "\n",
    "while True :\n",
    "  feedback = input(\"enter the feedback: \")\n",
    "  if(feedback == \"stop\"):\n",
    "    print(\"thank you for your feedback\")\n",
    "    break\n",
    "\n",
    "\n",
    "\n"
   ]
  },
  {
   "cell_type": "code",
   "execution_count": 7,
   "id": "58d0269e",
   "metadata": {},
   "outputs": [
    {
     "name": "stdout",
     "output_type": "stream",
     "text": [
      "local\n"
     ]
    }
   ],
   "source": [
    "x = \"global\"\n",
    "def outer():\n",
    "    x = \"enclosing\"\n",
    "    def inner():\n",
    "        x = \"local\"\n",
    "        print(x)\n",
    "    inner()\n",
    "outer()"
   ]
  },
  {
   "cell_type": "code",
   "execution_count": 16,
   "id": "aa4e10ce",
   "metadata": {},
   "outputs": [
    {
     "name": "stdout",
     "output_type": "stream",
     "text": [
      "2\n",
      "3\n",
      "5\n",
      "7\n",
      "11\n",
      "13\n",
      "17\n",
      "19\n"
     ]
    }
   ],
   "source": [
    "def primenumber(n):\n",
    "  if(n<=1):\n",
    "    return False\n",
    "  for i in range(2,n):\n",
    "    if(n%i == 0):\n",
    "       return False\n",
    "  return True\n",
    "for i in range(1,20):\n",
    " if primenumber(i):\n",
    "        print(i)"
   ]
  },
  {
   "cell_type": "code",
   "execution_count": 19,
   "id": "be879f94",
   "metadata": {},
   "outputs": [
    {
     "data": {
      "text/plain": [
       "720"
      ]
     },
     "execution_count": 19,
     "metadata": {},
     "output_type": "execute_result"
    }
   ],
   "source": [
    "def factorial(n):\n",
    "    result = 1\n",
    "    for i in range(1, n+1):\n",
    "        result*=i\n",
    "    return result\n",
    "factorial(6)"
   ]
  },
  {
   "cell_type": "code",
   "execution_count": 2,
   "id": "3bb5ece3",
   "metadata": {},
   "outputs": [
    {
     "name": "stdout",
     "output_type": "stream",
     "text": [
      "it is palindrome\n"
     ]
    }
   ],
   "source": [
    "def palindrome(s):\n",
    "   \n",
    "   s.lower()\n",
    "   if(s == s[::-1]):\n",
    "     print(\"it is palindrome\")\n",
    "   else:\n",
    "     print(\"it is not a palindram\")\n",
    "palindrome(\"madam\")\n"
   ]
  },
  {
   "cell_type": "code",
   "execution_count": 9,
   "id": "615388ea",
   "metadata": {},
   "outputs": [
    {
     "name": "stdout",
     "output_type": "stream",
     "text": [
      "the child name is meera,akshay\n"
     ]
    }
   ],
   "source": [
    "def my_func(child1,child2):\n",
    "    print(f\"the child name is {child1},{child2}\")\n",
    "my_func(child1=\"meera\",child2=\"akshay\")"
   ]
  },
  {
   "cell_type": "code",
   "execution_count": null,
   "id": "19549518",
   "metadata": {},
   "outputs": [],
   "source": []
  }
 ],
 "metadata": {
  "kernelspec": {
   "display_name": "Python 3",
   "language": "python",
   "name": "python3"
  },
  "language_info": {
   "codemirror_mode": {
    "name": "ipython",
    "version": 3
   },
   "file_extension": ".py",
   "mimetype": "text/x-python",
   "name": "python",
   "nbconvert_exporter": "python",
   "pygments_lexer": "ipython3",
   "version": "3.11.9"
  }
 },
 "nbformat": 4,
 "nbformat_minor": 5
}
